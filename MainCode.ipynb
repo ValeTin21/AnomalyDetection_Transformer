{
 "cells": [
  {
   "cell_type": "markdown",
   "metadata": {},
   "source": [
    "Thesis project by: Valerio Tinari\n",
    "\n",
    "Topic: Anomaly Detection using Transformer architecture\n",
    "\n",
    "Dataset: LHC Olympics 2020 dataset"
   ]
  },
  {
   "cell_type": "code",
   "execution_count": null,
   "metadata": {},
   "outputs": [
    {
     "name": "stdout",
     "output_type": "stream",
     "text": [
      "1.13.1+cu117\n",
      "0.14.1+cu117\n"
     ]
    },
    {
     "name": "stderr",
     "output_type": "stream",
     "text": [
      "/opt/conda/lib/python3.7/site-packages/ipykernel_launcher.py:17: DeprecationWarning: the imp module is deprecated in favour of importlib; see the module's documentation for alternative uses\n",
      "  app.launch_new_instance()\n"
     ]
    }
   ],
   "source": [
    "#Import packages\n",
    "import numpy as np\n",
    "import matplotlib.pyplot as plt\n",
    "import pandas as pd\n",
    "from scipy import stats\n",
    "import time\n",
    "\n",
    "import torch\n",
    "import torchvision\n",
    "print(torch.__version__)\n",
    "print(torchvision.__version__)\n",
    "import torch.nn as nn\n",
    "import torch.nn.functional as F\n",
    "\n",
    "import sys\n",
    "import dgl\n",
    "import imp\n",
    "import os\n",
    "import json\n",
    "\n",
    "sys.path.append('/home/Valerio/')\n",
    "from dataset.fast_perjet import LHCDatasetPerJet\n",
    "from torch.utils.data import DataLoader, TensorDataset\n"
   ]
  },
  {
   "cell_type": "code",
   "execution_count": 2,
   "metadata": {},
   "outputs": [
    {
     "name": "stdout",
     "output_type": "stream",
     "text": [
      "# of GPUs available:  1\n",
      "First GPU type:  Tesla V100-SXM2-32GB\n",
      "Computation device: cuda\n",
      "\n"
     ]
    }
   ],
   "source": [
    "# define device to use (cpu/gpu)\n",
    "if torch.cuda.is_available():\n",
    "    print('# of GPUs available: ', torch.cuda.device_count())\n",
    "    print('First GPU type: ',torch.cuda.get_device_name(0))\n",
    "device = ('cuda' if torch.cuda.is_available() else 'cpu')\n",
    "print(f\"Computation device: {device}\\n\")"
   ]
  },
  {
   "cell_type": "markdown",
   "metadata": {},
   "source": [
    "### Configurations"
   ]
  },
  {
   "cell_type": "code",
   "execution_count": 3,
   "metadata": {},
   "outputs": [],
   "source": [
    "def myStandardScaler(data, info):\n",
    "    const, label = data \n",
    "    \n",
    "    const[:, 0] = (const[:, 0] - info['mean_pt']) / info['std_pt']\n",
    "    const[:, 1] = (const[:, 1] - info['mean_eta']) / info['std_eta']\n",
    "    const[:, 2] = (const[:, 2] - info['mean_phi']) / info['std_phi']\n",
    "    \n",
    "    return const, label\n",
    "\n",
    "def check_positive_values(num_train_bkg, num_train_sig, num_val_bkg, num_val_sig, num_test_bkg, num_test_sig):\n",
    "    if any(value < 0 for value in [num_train_bkg, num_train_sig, num_val_bkg, num_val_sig, num_test_bkg, num_test_sig]):\n",
    "        raise ValueError(\"All variables must be positive.\")\n",
    "\n",
    "def vec_splitting(dataset, batch_size, train_lim, val_lim, test_lim, num_workers):\n",
    "    num_examples = len(dataset)\n",
    "\n",
    "    num_train_bkg = train_lim[0][1] - train_lim[0][0]\n",
    "    num_train_sig = train_lim[1][1] - train_lim[1][0]\n",
    "    num_val_bkg = val_lim[0][1] - val_lim[0][0]\n",
    "    num_val_sig = val_lim[1][1] - val_lim[1][0]\n",
    "    num_test_bkg = test_lim[0][1] - test_lim[0][0]\n",
    "    num_test_sig = test_lim[1][1] - test_lim[1][0]\n",
    "    check_positive_values(num_train_bkg, num_train_sig, num_val_bkg, num_val_sig, num_test_bkg, num_test_sig)\n",
    "    print(f'Training:\\t{num_train_bkg} background and {num_train_sig} signal events')\n",
    "    print(f'Validation:\\t{num_val_bkg} background and {num_val_sig} signal events')\n",
    "    print(f'Test:\\t\\t{num_test_bkg} background and {num_test_sig} signal events')\n",
    "    \n",
    "    indices_train_bkg = train_lim[0][0] + torch.randperm(num_train_bkg)\n",
    "    indices_train_sig = train_lim[1][0] + torch.randperm(num_train_sig)\n",
    "    indices_train = torch.cat((indices_train_bkg, indices_train_sig))\n",
    "    indices_train = indices_train[torch.randperm(num_train_bkg + num_train_sig)]\n",
    "    #print(indices_train)\n",
    "    indices_val_bkg = val_lim[0][0] + torch.randperm(num_val_bkg)\n",
    "    indices_val_sig = val_lim[1][0] + torch.randperm(num_val_sig)\n",
    "    indices_val = torch.cat((indices_val_bkg, indices_val_sig))\n",
    "    indices_val = indices_val[torch.randperm(num_val_bkg + num_val_sig)]\n",
    "    #print(indices_val)\n",
    "    indices_test_bkg = test_lim[0][0] + torch.randperm(num_test_bkg)\n",
    "    indices_test_sig = test_lim[1][0] + torch.randperm(num_test_sig)\n",
    "    indices_test = torch.cat((indices_test_bkg, indices_test_sig))\n",
    "    indices_test = indices_test[torch.randperm(num_test_bkg + num_test_sig)]\n",
    "    #print(indices_test)\n",
    "    \n",
    "    train_dataloader = DataLoader(dataset, sampler=indices_train, batch_size=batch_size, drop_last=False, \n",
    "                                  shuffle=False, num_workers=num_workers)\n",
    "    valid_dataloader = DataLoader(dataset, sampler=indices_val, batch_size=batch_size, drop_last=False,\n",
    "                                  shuffle=False, num_workers=num_workers)\n",
    "    test_dataloader = DataLoader(dataset, sampler=indices_test, batch_size=batch_size, drop_last=False, \n",
    "                                 shuffle=False, num_workers=num_workers)\n",
    "    \n",
    "    return train_dataloader, valid_dataloader, test_dataloader"
   ]
  },
  {
   "cell_type": "code",
   "execution_count": null,
   "metadata": {
    "scrolled": true
   },
   "outputs": [
    {
     "name": "stdout",
     "output_type": "stream",
     "text": [
      "is_sup: False\n"
     ]
    }
   ],
   "source": [
    "data_dir = '/home/Valerio/dataset_NOtransf_rotation/'\n",
    "\n",
    "file_pattern = 'batch_(\\d+)_(\\d+).pt'\n",
    "io_cachesize = 100 # number of files to keep in memory at the same time\n",
    "verbose = True\n",
    "batch_size = 512\n",
    "is_sup = False\n",
    "max_jets = 2\n",
    "device = ('cuda' if torch.cuda.is_available() else 'cpu') \n",
    "\n",
    "if not is_sup: \n",
    "    print(f'is_sup: {is_sup}')\n",
    "    train_lim = [[0*max_jets, 800000*max_jets], [1000000*max_jets, 1000000*max_jets]]\n",
    "    val_lim = [[800000*max_jets, 900000*max_jets], [1000000*max_jets, 1000001*max_jets]]\n",
    "    test_lim = [[900000*max_jets, 1000000*max_jets], [1000000*max_jets, 1100000*max_jets]]\n",
    "    \n",
    "else: \n",
    "    print(f'is_sup: {is_sup}')\n",
    "    train_lim = [[0*max_jets, 80000*max_jets], [1000000*max_jets, 1080000*max_jets]]\n",
    "    val_lim = [[80000*max_jets, 90000*max_jets], [1080000*max_jets, 1090000*max_jets]]\n",
    "    test_lim = [[90000*max_jets, 100000*max_jets], [1090000*max_jets, 1100000*max_jets]]"
   ]
  },
  {
   "cell_type": "markdown",
   "metadata": {},
   "source": [
    "## Dataset loading to find the best Normalization"
   ]
  },
  {
   "cell_type": "code",
   "execution_count": null,
   "metadata": {},
   "outputs": [],
   "source": [
    "NormalizationSearch = None\n",
    "datasetNotNorm = LHCDatasetPerJet(jets_to_take=max_jets, data_dir=data_dir,\n",
    "                       file_pattern=file_pattern, cache_size=io_cachesize, read_full=True, \n",
    "                       verbose=verbose, transform=NormalizationSearch)"
   ]
  },
  {
   "cell_type": "code",
   "execution_count": 8,
   "metadata": {},
   "outputs": [
    {
     "name": "stdout",
     "output_type": "stream",
     "text": [
      "The dataset is created from the path /raid/home/russogra/xValerio/dataset_furbo_NOtransf_rotation/\n",
      "\n",
      "The variable dataset contains 2200000 events, each element of the dataset is a <class 'tuple'> of length 2.\n",
      "The first element is a <class 'torch.Tensor'> of shape torch.Size([50, 3]) (50 constituents, pt, eta, phi for each)\n",
      "The first element is a <class 'numpy.float64'>, e.g. 0.0 (0 = background; 1 = signal)\n"
     ]
    }
   ],
   "source": [
    "indice = 1 #it should be 0 <= indice < 2200000\n",
    "\n",
    "print(f'The dataset is created from the path {data_dir}')\n",
    "print(f'\\nThe variable dataset contains {len(datasetNotNorm)} events, each element of the dataset is a {type(datasetNotNorm[indice])} of length {len(datasetNotNorm[indice])}.')\n",
    "print(f'The first element is a {type(datasetNotNorm[indice][0])} of shape {datasetNotNorm[indice][0].shape} (50 constituents, pt, eta, phi for each)')\n",
    "print(f'The first element is a {type(datasetNotNorm[indice][1])}, e.g. {datasetNotNorm[indice][1]} (0 = background; 1 = signal)')"
   ]
  },
  {
   "cell_type": "code",
   "execution_count": 9,
   "metadata": {},
   "outputs": [],
   "source": [
    "start_time = time.time()\n",
    "\n",
    "ptPlot=[]\n",
    "etaPlot=[]\n",
    "phiPlot=[]\n",
    "signalPt=[]\n",
    "signalEta=[]\n",
    "signalPhi=[]\n",
    "\n",
    "for i in range (len(datasetNotNorm)):\n",
    "    if datasetNotNorm[i][1]==0:\n",
    "        ptPlot.append(datasetNotNorm[i][0][:,0].numpy())\n",
    "        etaPlot.append(datasetNotNorm[i][0][:,1].numpy())\n",
    "        phiPlot.append(datasetNotNorm[i][0][:,2].numpy())\n",
    "    else:\n",
    "        signalPt.append(datasetNotNorm[i][0][:,0].numpy())\n",
    "        signalEta.append(datasetNotNorm[i][0][:,1].numpy())\n",
    "        signalPhi.append(datasetNotNorm[i][0][:,2].numpy())\n",
    "        \n",
    "ptPlot=np.array(ptPlot).flatten()\n",
    "etaPlot=np.array(etaPlot).flatten()\n",
    "phiPlot=np.array(phiPlot).flatten()\n",
    "signalPt=np.array(signalPt).flatten()\n",
    "signalEta=np.array(signalEta).flatten()\n",
    "signalPhi=np.array(signalPhi).flatten()\n",
    "\n",
    "finish_time = time.time()"
   ]
  },
  {
   "cell_type": "code",
   "execution_count": 10,
   "metadata": {
    "scrolled": true
   },
   "outputs": [
    {
     "name": "stdout",
     "output_type": "stream",
     "text": [
      "pt plot shape:  (83680010,)\n",
      "eta plot shape:  (83680010,)\n",
      "phi plot shape:  (83680010,)\n",
      "Total run_time is: 116.0967743396759 s\n"
     ]
    }
   ],
   "source": [
    "#Check\n",
    "#saving only value different from 0\n",
    "phiPlotNP=phiPlot[ptPlot!=0]\n",
    "etaPlotNP=etaPlot[ptPlot!=0]\n",
    "ptPlotNP=ptPlot[ptPlot!=0]\n",
    "signalPhiNP=signalPhi[signalPt!=0]\n",
    "signalEtaNP=signalEta[signalPt!=0]\n",
    "signalPtNP=signalPt[signalPt!=0]\n",
    "print(\"pt plot shape: \",ptPlotNP.shape)\n",
    "print(\"eta plot shape: \",etaPlotNP.shape)\n",
    "print(\"phi plot shape: \",phiPlotNP.shape)\n",
    "print(f'Total run_time is: {finish_time-start_time} s')\n",
    "\n",
    "#phiPlotNP stands for NoPadding"
   ]
  },
  {
   "cell_type": "code",
   "execution_count": 11,
   "metadata": {
    "scrolled": false
   },
   "outputs": [
    {
     "data": {
      "image/png": "[encoded data removed]",
      "text/plain": [
       "<Figure size 720x576 with 3 Axes>"
      ]
     },
     "metadata": {
      "needs_background": "light"
     },
     "output_type": "display_data"
    },
    {
     "name": "stdout",
     "output_type": "stream",
     "text": [
      "Total run_time is: 5.939229249954224 s\n"
     ]
    }
   ],
   "source": [
    "start_time = time.time()\n",
    "Plotarrays=[ptPlotNP,etaPlotNP,phiPlotNP]\n",
    "PlotarraysSignal=[signalPtNP,signalEtaNP,signalPhiNP]\n",
    "\n",
    "labels=['$p_T$','$\\eta$','$\\Phi$']\n",
    "colors=['g','r','b']\n",
    "\n",
    "#Distribution for background events\n",
    "fig = plt.figure(figsize=(10,8))\n",
    "fig.suptitle('Distribution for reconstructed events', fontsize=16)\n",
    "\n",
    "for i in range(0,len(Plotarrays)):\n",
    "    fig.subplots_adjust(wspace=0.5)\n",
    "    fig.subplots_adjust(hspace=0.5)\n",
    "    ax = fig.add_subplot(2, 2, i+1)\n",
    "    ax.hist(Plotarrays[i], bins=100,density=False, alpha=0.5,label='BCK')\n",
    "    ax.hist(PlotarraysSignal[i], bins=100,density=False, alpha=0.5,label='Signal')\n",
    "    plt.xlabel(labels[i])\n",
    "    plt.ylabel('Number of events normalized')\n",
    "    plt.legend(loc='upper right')\n",
    "\n",
    "plt.savefig(\"ModelScan/Final/DataDistribution.pdf\")    \n",
    "plt.show()\n",
    "print(f'Total run_time is: {time.time()-start_time} s')"
   ]
  },
  {
   "cell_type": "code",
   "execution_count": 12,
   "metadata": {
    "scrolled": false
   },
   "outputs": [
    {
     "name": "stdout",
     "output_type": "stream",
     "text": [
      "pT mean is:  0.016317237\n",
      "pT std is:  0.050027333\n",
      "\n",
      "eta mean is:  0.00014387858\n",
      "eta std is:  0.2930633\n",
      "\n",
      "phi mean is:  0.000104344545\n",
      "phi std is:  0.29033494\n"
     ]
    }
   ],
   "source": [
    "#Calculating mean and STD of each feature\n",
    "ptmean=ptPlotNP.mean()\n",
    "etamean=etaPlotNP.mean()\n",
    "phimean=phiPlotNP.mean()\n",
    "ptstd=ptPlotNP.std()\n",
    "etastd=etaPlotNP.std()\n",
    "phistd=phiPlotNP.std()\n",
    "\n",
    "print(\"pT mean is: \",ptmean)\n",
    "print(\"pT std is: \",ptstd)\n",
    "print(\"\\neta mean is: \",etamean)\n",
    "print(\"eta std is: \",etastd)\n",
    "print(\"\\nphi mean is: \",phimean)\n",
    "print(\"phi std is: \",phistd)"
   ]
  },
  {
   "cell_type": "markdown",
   "metadata": {},
   "source": [
    "# Vectorial dataset loading"
   ]
  },
  {
   "cell_type": "markdown",
   "metadata": {},
   "source": [
    "standardScaler_transformedOLD = {'mean_pt': 0.016302107, \n",
    "                              'mean_eta': 2.9857304e-07,\n",
    "                              'mean_phi': -0.00055650854,\n",
    "                              'std_pt': 0.050019808,\n",
    "                              'std_eta': 0.7675579,\n",
    "                              'std_phi': 1.8149211}\n",
    "\n",
    "standardScaler_transformedPlus0 = {'mean_pt': 0.013623734, \n",
    "                              'mean_eta': -204623970.0,\n",
    "                              'mean_phi': -0.0004650763,\n",
    "                              'std_pt': 0.046123847,\n",
    "                              'std_eta': 4518965000.0,\n",
    "                              'std_phi': 1.659144} \n"
   ]
  },
  {
   "cell_type": "code",
   "execution_count": 13,
   "metadata": {},
   "outputs": [],
   "source": [
    "standardScaler_transformed = {'mean_pt': ptmean, \n",
    "                              'mean_eta': etamean,\n",
    "                              'mean_phi': phimean,\n",
    "                              'std_pt': ptstd,\n",
    "                              'std_eta': etastd,\n",
    "                              'std_phi': phistd}"
   ]
  },
  {
   "cell_type": "markdown",
   "metadata": {},
   "source": [
    "Note:\n",
    "\n",
    "standardScaler_transformedPlus0 is the dict containing normalization values calculated considering also pt==0\n",
    "standardScaler_transformed instead contains only physical events with pt!=0"
   ]
  },
  {
   "cell_type": "code",
   "execution_count": null,
   "metadata": {
    "scrolled": true
   },
   "outputs": [],
   "source": [
    "Normalization =lambda x: myStandardScaler(x, standardScaler_transformed)\n",
    "dataset = LHCDatasetPerJet(jets_to_take=max_jets, data_dir=data_dir,\n",
    "                       file_pattern=file_pattern, cache_size=io_cachesize, read_full=True, \n",
    "                       verbose=verbose, transform=Normalization)"
   ]
  },
  {
   "cell_type": "code",
   "execution_count": 15,
   "metadata": {},
   "outputs": [
    {
     "name": "stdout",
     "output_type": "stream",
     "text": [
      "The dataset is created from the path /raid/home/russogra/xValerio/dataset_furbo_NOtransf_rotation/\n",
      "\n",
      "The variable dataset contains 2200000 events, each element of the dataset is a <class 'tuple'> of length 2.\n",
      "The first element is a <class 'torch.Tensor'> of shape torch.Size([50, 3]) (50 constituents, pt, eta, phi for each)\n",
      "The first element is a <class 'numpy.float64'>, e.g. 0.0 (0 = background; 1 = signal)\n"
     ]
    }
   ],
   "source": [
    "indice = 1 #it should be 0 <= indice < 2200000\n",
    "\n",
    "print(f'The dataset is created from the path {data_dir}')\n",
    "print(f'\\nThe variable dataset contains {len(dataset)} events, each element of the dataset is a {type(dataset[indice])} of length {len(dataset[indice])}.')\n",
    "print(f'The first element is a {type(dataset[indice][0])} of shape {dataset[indice][0].shape} (50 constituents, pt, eta, phi for each)')\n",
    "print(f'The first element is a {type(dataset[indice][1])}, e.g. {dataset[indice][1]} (0 = background; 1 = signal)')"
   ]
  },
  {
   "cell_type": "markdown",
   "metadata": {},
   "source": [
    "#### Checking Plot "
   ]
  },
  {
   "cell_type": "code",
   "execution_count": 16,
   "metadata": {},
   "outputs": [],
   "source": [
    "start_time2 = time.time()\n",
    "\n",
    "ptPlot2=[]\n",
    "etaPlot2=[]\n",
    "phiPlot2=[]\n",
    "signalPt2=[]\n",
    "signalEta2=[]\n",
    "signalPhi2=[]\n",
    "\n",
    "for i in range (len(dataset)):\n",
    "    if dataset[i][1]==0:\n",
    "        ptPlot2.append(dataset[i][0][:,0].numpy())\n",
    "        etaPlot2.append(dataset[i][0][:,1].numpy())\n",
    "        phiPlot2.append(dataset[i][0][:,2].numpy())\n",
    "    else:\n",
    "        signalPt2.append(dataset[i][0][:,0].numpy())\n",
    "        signalEta2.append(dataset[i][0][:,1].numpy())\n",
    "        signalPhi2.append(dataset[i][0][:,2].numpy())\n",
    "\n",
    "ptPlot2=np.array(ptPlot2).flatten()\n",
    "etaPlot2=np.array(etaPlot2).flatten()\n",
    "phiPlot2=np.array(phiPlot2).flatten()\n",
    "signalPt2=np.array(signalPt2).flatten()\n",
    "signalEta2=np.array(signalEta2).flatten()\n",
    "signalPhi2=np.array(signalPhi2).flatten()\n",
    "\n",
    "finish_time = time.time()"
   ]
  },
  {
   "cell_type": "code",
   "execution_count": 17,
   "metadata": {},
   "outputs": [
    {
     "name": "stdout",
     "output_type": "stream",
     "text": [
      "BCK pt shape:  (100000000,)\n",
      "BCK eta shape:  (100000000,)\n",
      "BCK phi shape:  (100000000,)\n",
      "signal Pt shape:  (10000000,)\n",
      "signal Eta shape:  (10000000,)\n",
      "signal Phi shape:  (10000000,)\n",
      "Total run_time is: 290.2991373538971 s\n"
     ]
    }
   ],
   "source": [
    "#Check\n",
    "print(\"BCK pt shape: \",ptPlot2.shape)\n",
    "print(\"BCK eta shape: \",etaPlot2.shape)\n",
    "print(\"BCK phi shape: \",phiPlot2.shape)\n",
    "print(\"signal Pt shape: \",signalPt2.shape)\n",
    "print(\"signal Eta shape: \",signalEta2.shape)\n",
    "print(\"signal Phi shape: \",signalPhi2.shape)\n",
    "print(f'Total run_time is: {finish_time-start_time2} s')"
   ]
  },
  {
   "cell_type": "code",
   "execution_count": 18,
   "metadata": {},
   "outputs": [
    {
     "name": "stdout",
     "output_type": "stream",
     "text": [
      "pT mean is:  0.00804375\n",
      "pT std is:  0.067736834\n",
      "\n",
      "eta mean is:  -0.006236444\n",
      "eta std is:  1.7658879\n",
      "\n",
      "phi mean is:  -0.006359921\n",
      "phi std is:  1.7788271\n"
     ]
    }
   ],
   "source": [
    "#Calculating mean and STD of each feature\n",
    "ptmean2=ptPlot2.mean()\n",
    "etamean2=etaPlot2.mean()\n",
    "phimean2=phiPlot2.mean()\n",
    "ptstd2=ptPlot2.std()\n",
    "etastd2=etaPlot2.std()\n",
    "phistd2=phiPlot2.std()\n",
    "\n",
    "print(\"pT mean is: \",ptmean2)\n",
    "print(\"pT std is: \",ptstd2)\n",
    "print(\"\\neta mean is: \",etamean2)\n",
    "print(\"eta std is: \",etastd2)\n",
    "print(\"\\nphi mean is: \",phimean2)\n",
    "print(\"phi std is: \",phistd2)"
   ]
  },
  {
   "cell_type": "code",
   "execution_count": 19,
   "metadata": {
    "scrolled": false
   },
   "outputs": [
    {
     "data": {
      "image/png": "[encoded data removed]",
      "text/plain": [
       "<Figure size 720x576 with 3 Axes>"
      ]
     },
     "metadata": {
      "needs_background": "light"
     },
     "output_type": "display_data"
    },
    {
     "name": "stdout",
     "output_type": "stream",
     "text": [
      "Total run_time is: 20.439955711364746 s\n"
     ]
    }
   ],
   "source": [
    "start_time = time.time()\n",
    "Plotarrays2=[ptPlot2,etaPlot2,phiPlot2]\n",
    "PlotarraysSignal2=[signalPt2,signalEta2,signalPhi2]\n",
    "\n",
    "#Distribution for background events\n",
    "fig = plt.figure(figsize=(10,8))\n",
    "fig.suptitle('Distribution for Normalized reconstructed events', fontsize=16)\n",
    "\n",
    "nbins=np.linspace(-3,3,100)\n",
    "\n",
    "for i in range(0,len(Plotarrays)):\n",
    "    fig.subplots_adjust(wspace=0.5)\n",
    "    fig.subplots_adjust(hspace=0.5)\n",
    "    ax = fig.add_subplot(2, 2, i+1)\n",
    "    ax.hist(Plotarrays2[i], bins=nbins,density=False, alpha=0.5,label='BCK')\n",
    "    ax.hist(PlotarraysSignal2[i], bins=nbins,density=False, alpha=0.5,label='Signal')\n",
    "    plt.xlim(-3,3)\n",
    "    plt.xlabel(labels[i])\n",
    "    plt.ylabel('Number of events normalized')\n",
    "    plt.legend(loc='upper right')\n",
    "\n",
    "plt.savefig(\"ModelScan/Final/DistributionNORM.pdf\")    \n",
    "plt.show()\n",
    "print(f'Total run_time is: {time.time()-start_time} s')"
   ]
  },
  {
   "cell_type": "code",
   "execution_count": 20,
   "metadata": {
    "scrolled": true
   },
   "outputs": [
    {
     "name": "stdout",
     "output_type": "stream",
     "text": [
      "Training:\t1600000 background and 0 signal events\n",
      "Validation:\t200000 background and 2 signal events\n",
      "Test:\t\t200000 background and 200000 signal events\n"
     ]
    },
    {
     "data": {
      "text/plain": [
       "(3125, 391, 782)"
      ]
     },
     "execution_count": 20,
     "metadata": {},
     "output_type": "execute_result"
    }
   ],
   "source": [
    "train_loader, val_loader, test_loader = vec_splitting(dataset, batch_size, train_lim, val_lim, test_lim, 0)\n",
    "len(train_loader), len(val_loader), len(test_loader)"
   ]
  },
  {
   "cell_type": "markdown",
   "metadata": {},
   "source": [
    "#########"
   ]
  },
  {
   "cell_type": "markdown",
   "metadata": {},
   "source": [
    "### Defining the model architecture"
   ]
  },
  {
   "cell_type": "markdown",
   "metadata": {},
   "source": [
    "The model architecture is based on two python classes inheriting from pytroch nn.Module:\n",
    "\n",
    "-AttentionBlock: implements the standard attention (multi-head attention + MLP) block for a tranformer encoder architecture  \\\\\\\n",
    "-TransformerModel: a classifier based on a transformer encoder architecture implementation"
   ]
  },
  {
   "cell_type": "code",
   "execution_count": 21,
   "metadata": {},
   "outputs": [],
   "source": [
    "class AttentionBlock(nn.Module):\n",
    "    #  Implements the standard attention (multi-head attention + MLP) block for\n",
    "    #  a tranformer encoder architecture\n",
    "\n",
    "    #  arguments:\n",
    "    #   embed_dim  - Dimensionality of input and attention feature vectors\n",
    "    #   hidden_dim - Dimensionality of hidden layer in feed-forward network (usually 2-4x larger than embed_dim)\n",
    "    #   num_heads  - Number of heads to use in the Multi-Head Attention block\n",
    "    #   dropout    - Amount of dropout to apply in the feed-forward network\n",
    "\n",
    "\n",
    "    def __init__(self, embed_dim, hidden_dim, num_heads, dropout=0.0):\n",
    "        super(AttentionBlock, self).__init__()\n",
    "\n",
    "        self.layer_norm_1 = nn.LayerNorm(embed_dim)\n",
    "        self.attn = nn.MultiheadAttention(embed_dim, num_heads, batch_first=True) #this pytroch function implements a full MHA block\n",
    "        self.layer_norm_2 = nn.LayerNorm(embed_dim)\n",
    "\n",
    "        #MLP made by: Linear layer with GELU activation, a dropout layer, another Linear layer w/o activation floowed by another dropout layer.\n",
    "        self.mlp = nn.Sequential(\n",
    "            nn.Linear(embed_dim,hidden_dim),\n",
    "            nn.GELU(),\n",
    "            nn.Dropout(p=dropout),\n",
    "            nn.Linear(hidden_dim,embed_dim),\n",
    "            nn.Dropout(p=dropout),\n",
    "            )\n",
    "\n",
    "    def forward(self, x):\n",
    "        inp_x = self.layer_norm_1(x)\n",
    "        xMha = x + self.attn(inp_x, inp_x, inp_x)[0] #nn.MultiheadAttention expects input shapes 3x(L,B,F) and output\n",
    "        xMha = self.layer_norm_2(xMha)\n",
    "        x=x+self.mlp(xMha)\n",
    "        return x"
   ]
  },
  {
   "cell_type": "code",
   "execution_count": 22,
   "metadata": {},
   "outputs": [],
   "source": [
    "class TransformerModel(nn.Module):\n",
    "    #  Transformer encoder architecture implementation, trained to reconstruct input_data\n",
    "\n",
    "    #  arguments:\n",
    "    #   input_dim  - Dimensionality of input feature vectors (jet features)\n",
    "    #   embed_dim  - Dimensionality of embedding in input to the Transformer\n",
    "    #   hidden_dim - Dimensionality of hidden layer in feed-forward network\n",
    "    #   num_heads  - Number of heads to use in the Multi-Head Attention block\n",
    "    #   num_layers - Number of layers to use in the Transformer\n",
    "    #   dropout    - Amount of dropout to apply in the feed-forward network and in the input\n",
    "\n",
    "    def __init__(self, input_dim, embed_dim, hidden_dim, num_heads, num_layers, dropout=0.0):\n",
    "        super(TransformerModel, self).__init__()\n",
    "\n",
    "        # input layer (a dense MLP projecting the input in a embed_dim embedding space)\n",
    "        self.input_layer = nn.Sequential(\n",
    "            nn.Linear(input_dim,128),\n",
    "            nn.GELU(),\n",
    "            nn.Linear(128,512),\n",
    "            nn.GELU(),\n",
    "            nn.Linear(512,embed_dim),\n",
    "            nn.GELU()\n",
    "        )\n",
    "\n",
    "        # Transformer encoder: stack of num_layers Attention Blocks (embed_dim -> embed_dim)\n",
    "        self.transformer = nn.Sequential(*[AttentionBlock(embed_dim, hidden_dim, num_heads, dropout=dropout) for _ in range(num_layers)])\n",
    "         \n",
    "        #option 2, a bit lighter\n",
    "        self.output_layer = nn.Sequential(\n",
    "            nn.LayerNorm(embed_dim),\n",
    "            nn.Linear(embed_dim,input_dim)\n",
    "        )\n",
    "\n",
    "        self.dropout = nn.Dropout(dropout)\n",
    "\n",
    "\n",
    "    def forward(self, x):\n",
    "        # project input into the embed_dim space and applying dropout\n",
    "        x = self.input_layer(x)\n",
    "        x=self.dropout(x)\n",
    "\n",
    "        # Apply Transformer\n",
    "        x=self.transformer(x)\n",
    "\n",
    "        #MLP to go back to input vector dim\n",
    "        x=self.output_layer(x)\n",
    "        return x"
   ]
  },
  {
   "cell_type": "markdown",
   "metadata": {},
   "source": [
    "## Scan of hyperparameters"
   ]
  },
  {
   "cell_type": "code",
   "execution_count": 674,
   "metadata": {},
   "outputs": [],
   "source": [
    "#def trainingLoop(train_loader,val_loader,model,device,epochs,loss_func,numLayer,numHead,LR,schedulerSet=False):\n",
    "#def testPlot(bckAS,sgnAS,numLayer,numHead):\n",
    "#def testLoop(test_loader,model_kwargs,runningKwargs):"
   ]
  },
  {
   "cell_type": "markdown",
   "metadata": {},
   "source": [
    "### Number of epochs"
   ]
  },
  {
   "cell_type": "code",
   "execution_count": null,
   "metadata": {
    "scrolled": true
   },
   "outputs": [
    {
     "name": "stdout",
     "output_type": "stream",
     "text": [
      "num heads2; num Layers 4\n",
      "\n",
      "Best validation loss: 0.8907764808601125\n",
      "\n",
      "Saving best model for epoch: 1\n",
      "\n",
      "epoch: 1, time(s): 140.51, train loss: 1.576337, vali loss: 0.890776\n",
      "\n",
      "Best validation loss: 0.7459701459730983\n",
      "\n",
      "Saving best model for epoch: 2\n",
      "\n",
      "epoch: 2, time(s): 132.64, train loss: 1.025932, vali loss: 0.745970\n"
     ]
    }
   ],
   "source": [
    "import trainingFunctionsFinal as tF\n",
    "\n",
    "headList=[2,4,8]\n",
    "layerList=[4,8,16,32]\n",
    "LRlist=[1e-6]\n",
    "\n",
    "loss_func = nn.MSELoss()\n",
    "\n",
    "for k in LRlist:\n",
    "    for i in layerList:\n",
    "        for j in headList:\n",
    "            \n",
    "            # instantiate the model\n",
    "            model_kwargs={\n",
    "                'input_dim': 3,\n",
    "                'embed_dim': 128,\n",
    "                'hidden_dim': 256,\n",
    "                'num_heads': j,\n",
    "                'num_layers': i,\n",
    "                'dropout': 0.30}\n",
    "            \n",
    "            print(\"num heads{0}; num Layers {1}\".format(model_kwargs['num_heads'],model_kwargs['num_layers']))\n",
    "            \n",
    "            model = TransformerModel(**model_kwargs)\n",
    "            \n",
    "            runningKwargs={\n",
    "                  'model': model,\n",
    "                  'device':device,\n",
    "                  'epochs': 50,\n",
    "                  'loss_func': loss_func,\n",
    "                  'numLayer': i,\n",
    "                  'numHead': j,\n",
    "                  'LR': k,\n",
    "                  'schedulerSet':False}\n",
    "            \n",
    "            hist_loss,hist_vloss=tF.trainingLoop(train_loader,val_loader,**runningKwargs)\n",
    "            tF.trainingPlot(hist_loss,hist_vloss,runningKwargs['numHead'],runningKwargs['numLayer'],runningKwargs['LR'])\n",
    "            \n",
    "            #Loading the best model\n",
    "            filename='ModelScan/Final/best_modelL'+str(runningKwargs['numLayer'])+'H'+str(runningKwargs['numHead'])+str(runningKwargs['LR'])+'.pth'\n",
    "            checkpoint = torch.load(filename)\n",
    "            device=runningKwargs['device']\n",
    "            model = TransformerModel(**model_kwargs)\n",
    "            model.load_state_dict(checkpoint['model_state_dict'])\n",
    "            model.eval()\n",
    "            model.to(device)\n",
    "            print('Loaded best model at epoch: ', checkpoint['epoch'])\n",
    "            \n",
    "            tF.testLoop(test_loader,model,runningKwargs['device'],runningKwargs['numHead'],runningKwargs['numLayer'],runningKwargs['LR'])\n",
    "\n",
    "print(\"Loop Completed, check results\")\n"
   ]
  },
  {
   "cell_type": "markdown",
   "metadata": {},
   "source": [
    "Output successfully saved to the destination directory!"
   ]
  }
 ],
 "metadata": {
  "kernelspec": {
   "display_name": "Python 3 (ipykernel)",
   "language": "python",
   "name": "python3"
  },
  "language_info": {
   "codemirror_mode": {
    "name": "ipython",
    "version": 3
   },
   "file_extension": ".py",
   "mimetype": "text/x-python",
   "name": "python",
   "nbconvert_exporter": "python",
   "pygments_lexer": "ipython3",
   "version": "3.7.13"
  }
 },
 "nbformat": 4,
 "nbformat_minor": 2
}
